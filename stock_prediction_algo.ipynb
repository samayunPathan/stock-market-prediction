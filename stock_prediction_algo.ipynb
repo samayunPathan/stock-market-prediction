{
 "cells": [
  {
   "cell_type": "code",
   "execution_count": 7,
   "id": "2ec070f3",
   "metadata": {},
   "outputs": [
    {
     "name": "stderr",
     "output_type": "stream",
     "text": [
      "[*********************100%%**********************]  1 of 1 completed\n"
     ]
    },
    {
     "name": "stdout",
     "output_type": "stream",
     "text": [
      "=== Trading Summary ===\n",
      "Symbol: MSFT\n",
      "From: 2018-01-01 To: 2023-12-31\n",
      "Initial Budget: $5000\n",
      "Final Budget: $8499.86001586914\n",
      "Profit/Loss: $3499.86\n"
     ]
    }
   ],
   "source": [
    "import yfinance as yf\n",
    "import pandas as pd\n",
    "from sklearn.ensemble import RandomForestClassifier\n",
    "\n",
    "class AlgorithmicTrader:\n",
    "    def __init__(self, symbol, from_date, to_date, initial_budget=5000):\n",
    "        self.symbol = symbol\n",
    "        self.from_date = from_date\n",
    "        self.to_date = to_date\n",
    "        self.initial_budget = initial_budget\n",
    "        self.current_budget = initial_budget\n",
    "        self.shares_owned = 0\n",
    "        self.df = None\n",
    "        self.ml_model = RandomForestClassifier()\n",
    "\n",
    "    def initialize_data(self):\n",
    "        self.df = yf.download(self.symbol, start=self.from_date, end=self.to_date)\n",
    "        self.df = self.df.ffill().dropna()\n",
    "\n",
    "    def calculate_moving_averages(self):\n",
    "        self.df['MA50'] = self.df['Close'].rolling(window=50).mean()\n",
    "        self.df['MA200'] = self.df['Close'].rolling(window=200).mean()\n",
    "\n",
    "    def identify_golden_cross(self):\n",
    "        self.df['Signal'] = 0\n",
    "        self.df.loc[self.df['MA50'] > self.df['MA200'], 'Signal'] = 1\n",
    "\n",
    "    def determine_max_shares(self):\n",
    "        last_close = self.df['Close'].iloc[-1]\n",
    "        self.max_shares = int(self.current_budget / last_close)\n",
    "\n",
    "    def execute_trades(self):\n",
    "        self.df['Position'] = self.df['Signal'].diff()\n",
    "        for i in range(len(self.df)):\n",
    "            if self.df['Position'].iloc[i] == 1:\n",
    "                if self.current_budget >= 0:\n",
    "                    self.shares_owned = self.max_shares\n",
    "                    self.current_budget -= (self.shares_owned * self.df['Close'].iloc[i])\n",
    "            elif self.df['Position'].iloc[i] == -1:\n",
    "                if self.shares_owned > 0:\n",
    "                    self.current_budget += (self.shares_owned * self.df['Close'].iloc[i])\n",
    "                    self.shares_owned = 0\n",
    "        # Forcefully close the position on the last row if a position is still open\n",
    "        if self.shares_owned > 0:\n",
    "            self.current_budget += (self.shares_owned * self.df['Close'].iloc[-1])\n",
    "            self.shares_owned = 0\n",
    "\n",
    "    def train_ml_model(self):\n",
    "        # Assuming we have features and labels prepared\n",
    "        X = self.df[['Open', 'High', 'Low', 'Close', 'Volume']]\n",
    "        y = self.df['Signal']\n",
    "        self.ml_model.fit(X, y)\n",
    "\n",
    "    def integrate_ml_strategy(self):\n",
    "        X = self.df[['Open', 'High', 'Low', 'Close', 'Volume']]\n",
    "        self.train_ml_model()\n",
    "        predictions = self.ml_model.predict(X)\n",
    "        self.df['ML_Signal'] = predictions\n",
    "        self.df['ML_Position'] = self.df['ML_Signal'].diff()\n",
    "        # Adjust trading strategy based on ML predictions\n",
    "\n",
    "    def evaluate_strategy(self):\n",
    "        initial_value = self.initial_budget\n",
    "        final_value = self.current_budget\n",
    "        profit_loss = final_value - initial_value\n",
    "        return profit_loss\n",
    "\n",
    "    def print_summary(self):\n",
    "        print(\"=== Trading Summary ===\")\n",
    "        print(f\"Symbol: {self.symbol}\")\n",
    "        print(f\"From: {self.from_date} To: {self.to_date}\")\n",
    "        print(f\"Initial Budget: ${self.initial_budget}\")\n",
    "        print(f\"Final Budget: ${self.current_budget}\")\n",
    "        profit_loss = trader.evaluate_strategy()\n",
    "        print(f\"Profit/Loss: ${profit_loss:.2f}\")\n",
    "\n",
    "# Example usage:\n",
    "trader = AlgorithmicTrader(symbol='MSFT', from_date='2018-01-01', to_date='2023-12-31')\n",
    "trader.initialize_data()\n",
    "trader.calculate_moving_averages()\n",
    "trader.identify_golden_cross()\n",
    "trader.determine_max_shares()\n",
    "trader.execute_trades()\n",
    "trader.integrate_ml_strategy()\n",
    "trader.evaluate_strategy()\n",
    "trader.print_summary()\n"
   ]
  },
  {
   "cell_type": "code",
   "execution_count": null,
   "id": "270afcb3",
   "metadata": {},
   "outputs": [],
   "source": []
  }
 ],
 "metadata": {
  "kernelspec": {
   "display_name": "Python 3",
   "language": "python",
   "name": "python3"
  },
  "language_info": {
   "codemirror_mode": {
    "name": "ipython",
    "version": 3
   },
   "file_extension": ".py",
   "mimetype": "text/x-python",
   "name": "python",
   "nbconvert_exporter": "python",
   "pygments_lexer": "ipython3",
   "version": "3.8.8"
  }
 },
 "nbformat": 4,
 "nbformat_minor": 5
}
